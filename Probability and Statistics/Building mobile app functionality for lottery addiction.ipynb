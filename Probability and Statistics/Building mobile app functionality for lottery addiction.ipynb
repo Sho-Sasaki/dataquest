{
 "cells": [
  {
   "cell_type": "markdown",
   "metadata": {},
   "source": [
    "# Introduction"
   ]
  },
  {
   "cell_type": "markdown",
   "metadata": {
    "collapsed": true
   },
   "source": [
    "In this project, we will build functions for a mobile app developed by a medical institute that aims to prevent and treat gambling addctions. It will enable users to answer quesions related gambling calculation probability. The questions we aim to answers are:\n",
    "\n",
    "1. What is the probability of winning the big prize with a single ticket?\n",
    "2. What is the probability of winning the big prize if we play 40 different tickets (or any other number)?\n",
    "3. What is the probability of having at least five (or four, or three, or two) winning numbers on a single ticket?\n",
    "\n",
    "We will focus on the 6/49 lottery, which is one of three national lottery games in Canada. "
   ]
  },
  {
   "cell_type": "markdown",
   "metadata": {},
   "source": [
    "# Core Functions"
   ]
  },
  {
   "cell_type": "markdown",
   "metadata": {},
   "source": [
    "To answer probability questions, we will first need to create functions that we will use often. Funcation that calculates:\n",
    "**Factorials & Combinations**"
   ]
  },
  {
   "cell_type": "code",
   "execution_count": 146,
   "metadata": {
    "collapsed": true
   },
   "outputs": [],
   "source": [
    "def factorial(n):\n",
    "    if n == 1:\n",
    "        return 1\n",
    "    else:\n",
    "        return n * factorial(n-1)\n",
    "        \n",
    "def combination(n, k):\n",
    "    numerator = factorial(n)\n",
    "    demoninator = factorial(k) * factorial(n-k)\n",
    "    \n",
    "    return numerator / demoninator"
   ]
  },
  {
   "cell_type": "markdown",
   "metadata": {
    "collapsed": true
   },
   "source": [
    "# Calculating one ticket probability"
   ]
  },
  {
   "cell_type": "markdown",
   "metadata": {},
   "source": [
    "We will build a function that calculates the probability of winning the prize for a given ticket.\n",
    "To draw a ticket, a user will select six different numbers from 1 to 49. The requirements and the scenarios are:\n",
    "\n",
    "1. The user inputs six different numbers from 1 to 49\n",
    "2. The six numbers will come as a Python list and serve as an input to our function\n",
    "3. The function will print the probability value in a way that people without any probability training are able to understand\n",
    "\n"
   ]
  },
  {
   "cell_type": "code",
   "execution_count": 147,
   "metadata": {
    "collapsed": true
   },
   "outputs": [],
   "source": [
    "def one_ticket_probability(selected_numbers):\n",
    "    number_of_combinations = combination(49, 6)\n",
    "    p = 1/number_of_combinations * 100\n",
    "    \n",
    "    print(\"Your probability of winning the best prize with the given numbers {} are: {:.8f}%\".format(selected_numbers, p))\n",
    "    print(\"You have a chance of winning every 1 in {} chances\".format(round(number_of_combinations)))"
   ]
  },
  {
   "cell_type": "code",
   "execution_count": 148,
   "metadata": {
    "collapsed": false
   },
   "outputs": [
    {
     "name": "stdout",
     "output_type": "stream",
     "text": [
      "Your probability of winning the best prize with the given numbers [49, 3, 4, 5, 7, 8] are: 0.00000715%\n",
      "You have a chance of winning every 1 in 13983816 chances\n"
     ]
    }
   ],
   "source": [
    "one_ticket_probability([49,3,4,5,7,8])"
   ]
  },
  {
   "cell_type": "markdown",
   "metadata": {},
   "source": [
    "# Historic data"
   ]
  },
  {
   "cell_type": "markdown",
   "metadata": {},
   "source": [
    "Let us look at the historic data coming from the national 6/49 lottery game in Canada. \n",
    "The data set contains historical data for 3,665 drawings, dating from 1982 to 2018 from [Kaggle](https://www.kaggle.com/datascienceai/lottery-dataset).\n",
    "\n"
   ]
  },
  {
   "cell_type": "code",
   "execution_count": 149,
   "metadata": {
    "collapsed": false
   },
   "outputs": [
    {
     "data": {
      "text/plain": [
       "(3665, 11)"
      ]
     },
     "execution_count": 149,
     "metadata": {},
     "output_type": "execute_result"
    }
   ],
   "source": [
    "import pandas as pd\n",
    "\n",
    "historic_649 = pd.read_csv('649.csv')\n",
    "historic_649.shape"
   ]
  },
  {
   "cell_type": "code",
   "execution_count": 150,
   "metadata": {
    "collapsed": false
   },
   "outputs": [
    {
     "data": {
      "text/html": [
       "<div>\n",
       "<style scoped>\n",
       "    .dataframe tbody tr th:only-of-type {\n",
       "        vertical-align: middle;\n",
       "    }\n",
       "\n",
       "    .dataframe tbody tr th {\n",
       "        vertical-align: top;\n",
       "    }\n",
       "\n",
       "    .dataframe thead th {\n",
       "        text-align: right;\n",
       "    }\n",
       "</style>\n",
       "<table border=\"1\" class=\"dataframe\">\n",
       "  <thead>\n",
       "    <tr style=\"text-align: right;\">\n",
       "      <th></th>\n",
       "      <th>PRODUCT</th>\n",
       "      <th>DRAW NUMBER</th>\n",
       "      <th>SEQUENCE NUMBER</th>\n",
       "      <th>DRAW DATE</th>\n",
       "      <th>NUMBER DRAWN 1</th>\n",
       "      <th>NUMBER DRAWN 2</th>\n",
       "      <th>NUMBER DRAWN 3</th>\n",
       "      <th>NUMBER DRAWN 4</th>\n",
       "      <th>NUMBER DRAWN 5</th>\n",
       "      <th>NUMBER DRAWN 6</th>\n",
       "      <th>BONUS NUMBER</th>\n",
       "    </tr>\n",
       "  </thead>\n",
       "  <tbody>\n",
       "    <tr>\n",
       "      <th>0</th>\n",
       "      <td>649</td>\n",
       "      <td>1</td>\n",
       "      <td>0</td>\n",
       "      <td>6/12/1982</td>\n",
       "      <td>3</td>\n",
       "      <td>11</td>\n",
       "      <td>12</td>\n",
       "      <td>14</td>\n",
       "      <td>41</td>\n",
       "      <td>43</td>\n",
       "      <td>13</td>\n",
       "    </tr>\n",
       "    <tr>\n",
       "      <th>1</th>\n",
       "      <td>649</td>\n",
       "      <td>2</td>\n",
       "      <td>0</td>\n",
       "      <td>6/19/1982</td>\n",
       "      <td>8</td>\n",
       "      <td>33</td>\n",
       "      <td>36</td>\n",
       "      <td>37</td>\n",
       "      <td>39</td>\n",
       "      <td>41</td>\n",
       "      <td>9</td>\n",
       "    </tr>\n",
       "    <tr>\n",
       "      <th>2</th>\n",
       "      <td>649</td>\n",
       "      <td>3</td>\n",
       "      <td>0</td>\n",
       "      <td>6/26/1982</td>\n",
       "      <td>1</td>\n",
       "      <td>6</td>\n",
       "      <td>23</td>\n",
       "      <td>24</td>\n",
       "      <td>27</td>\n",
       "      <td>39</td>\n",
       "      <td>34</td>\n",
       "    </tr>\n",
       "    <tr>\n",
       "      <th>3</th>\n",
       "      <td>649</td>\n",
       "      <td>4</td>\n",
       "      <td>0</td>\n",
       "      <td>7/3/1982</td>\n",
       "      <td>3</td>\n",
       "      <td>9</td>\n",
       "      <td>10</td>\n",
       "      <td>13</td>\n",
       "      <td>20</td>\n",
       "      <td>43</td>\n",
       "      <td>34</td>\n",
       "    </tr>\n",
       "    <tr>\n",
       "      <th>4</th>\n",
       "      <td>649</td>\n",
       "      <td>5</td>\n",
       "      <td>0</td>\n",
       "      <td>7/10/1982</td>\n",
       "      <td>5</td>\n",
       "      <td>14</td>\n",
       "      <td>21</td>\n",
       "      <td>31</td>\n",
       "      <td>34</td>\n",
       "      <td>47</td>\n",
       "      <td>45</td>\n",
       "    </tr>\n",
       "  </tbody>\n",
       "</table>\n",
       "</div>"
      ],
      "text/plain": [
       "   PRODUCT  DRAW NUMBER  SEQUENCE NUMBER  DRAW DATE  NUMBER DRAWN 1  \\\n",
       "0      649            1                0  6/12/1982               3   \n",
       "1      649            2                0  6/19/1982               8   \n",
       "2      649            3                0  6/26/1982               1   \n",
       "3      649            4                0   7/3/1982               3   \n",
       "4      649            5                0  7/10/1982               5   \n",
       "\n",
       "   NUMBER DRAWN 2  NUMBER DRAWN 3  NUMBER DRAWN 4  NUMBER DRAWN 5  \\\n",
       "0              11              12              14              41   \n",
       "1              33              36              37              39   \n",
       "2               6              23              24              27   \n",
       "3               9              10              13              20   \n",
       "4              14              21              31              34   \n",
       "\n",
       "   NUMBER DRAWN 6  BONUS NUMBER  \n",
       "0              43            13  \n",
       "1              41             9  \n",
       "2              39            34  \n",
       "3              43            34  \n",
       "4              47            45  "
      ]
     },
     "execution_count": 150,
     "metadata": {},
     "output_type": "execute_result"
    }
   ],
   "source": [
    "historic_649.head()"
   ]
  },
  {
   "cell_type": "markdown",
   "metadata": {},
   "source": [
    "# Check against historic data"
   ]
  },
  {
   "cell_type": "markdown",
   "metadata": {},
   "source": [
    "We are going to write a function that will enable users to compare their ticket against the historical lottery data.\n",
    "This time, given a list of 6 numbers from 1 to 49, calculate and print:\n",
    "1. The number of times the combination selected occurred in the Canada data set\n",
    "2. The probability of winning the big prize in the next drawing with that combination"
   ]
  },
  {
   "cell_type": "code",
   "execution_count": 151,
   "metadata": {
    "collapsed": false
   },
   "outputs": [
    {
     "data": {
      "text/plain": [
       "0    {3, 41, 11, 12, 43, 14}\n",
       "1    {33, 36, 37, 39, 8, 41}\n",
       "2     {1, 6, 39, 23, 24, 27}\n",
       "3     {3, 9, 10, 43, 13, 20}\n",
       "4    {34, 5, 14, 47, 21, 31}\n",
       "dtype: object"
      ]
     },
     "execution_count": 151,
     "metadata": {},
     "output_type": "execute_result"
    }
   ],
   "source": [
    "def extract_numbers(row):\n",
    "    return set(row[4:10])\n",
    "\n",
    "winning_numbers = historic_649.apply(extract_numbers, axis=1)\n",
    "winning_numbers.head()"
   ]
  },
  {
   "cell_type": "code",
   "execution_count": 152,
   "metadata": {
    "collapsed": false
   },
   "outputs": [],
   "source": [
    "def check_historical_occurrence(selected_numbers):\n",
    "    # index booling\n",
    "    has_occurred = winning_numbers == selected_numbers\n",
    "    \n",
    "    if has_occurred.sum() == 0:    \n",
    "        print(\"The given numbers {} have never won in the past.\".format(selected_numbers))\n",
    "    else:\n",
    "        print(\"The given numbers {} have won in the past.\".format(selected_numbers))\n",
    "        \n",
    "    print(\"That is does not mean, however, the given numbers have higher chance of winning in the furture than any other set of numbers.\\\n",
    "          The chance of winning is still every 1 in 13983816.\")"
   ]
  },
  {
   "cell_type": "code",
   "execution_count": 153,
   "metadata": {
    "collapsed": false,
    "scrolled": true
   },
   "outputs": [
    {
     "name": "stdout",
     "output_type": "stream",
     "text": [
      "The given numbers {1, 2, 3, 4, 5, 6} have never won in the past.\n",
      "That is does not mean, however, the given numbers have higher chance of winning in the furture than any other set of numbers.          The chance of winning is still every 1 in 13983816.\n"
     ]
    }
   ],
   "source": [
    "check_historical_occurrence({1,2,3,4,5,6})"
   ]
  },
  {
   "cell_type": "code",
   "execution_count": 154,
   "metadata": {
    "collapsed": false
   },
   "outputs": [
    {
     "name": "stdout",
     "output_type": "stream",
     "text": [
      "The given numbers {3, 41, 43, 12, 11, 14} have won in the past.\n",
      "That is does not mean, however, the given numbers have higher chance of winning in the furture than any other set of numbers.          The chance of winning is still every 1 in 13983816.\n"
     ]
    }
   ],
   "source": [
    "check_historical_occurrence({3,11,12,14,41,43})"
   ]
  },
  {
   "cell_type": "markdown",
   "metadata": {},
   "source": [
    "# Multi-ticket Probability"
   ]
  },
  {
   "cell_type": "markdown",
   "metadata": {},
   "source": [
    "People with lottery addiction usually play more than one ticket on a single drawing, thinking that this might increase their chances of winning significantly. We will create a function that will allow the users to calculate the chances of winning for any number of different tickets."
   ]
  },
  {
   "cell_type": "code",
   "execution_count": 155,
   "metadata": {
    "collapsed": true
   },
   "outputs": [],
   "source": [
    "def multi_ticket_probability(n_tickets):\n",
    "    number_of_combinations = combination(49, 6)\n",
    "    \n",
    "    p = n_tickets/number_of_combinations * 100\n",
    "    rounded_chances = round(number_of_combinations/n)\n",
    "    print(\"The probability of winning the best prize with {} different ticket(s) is(are): {:.8f}%\".format(n_tickets, p))\n",
    "    print(\"You have a chance of winning, 1 in {:,}\".format(rounded_chances))"
   ]
  },
  {
   "cell_type": "code",
   "execution_count": 156,
   "metadata": {
    "collapsed": false
   },
   "outputs": [
    {
     "name": "stdout",
     "output_type": "stream",
     "text": [
      "The probability of winning the best prize with 1 different ticket(s) is(are): 0.00000715%\n",
      "You have a chance of winning, 1 in 13,983,816\n",
      "\n",
      "The probability of winning the best prize with 10 different ticket(s) is(are): 0.00007151%\n",
      "You have a chance of winning, 1 in 1,398,382\n",
      "\n",
      "The probability of winning the best prize with 100 different ticket(s) is(are): 0.00071511%\n",
      "You have a chance of winning, 1 in 139,838\n",
      "\n",
      "The probability of winning the best prize with 10000 different ticket(s) is(are): 0.07151124%\n",
      "You have a chance of winning, 1 in 1,398\n",
      "\n",
      "The probability of winning the best prize with 1000000 different ticket(s) is(are): 7.15112384%\n",
      "You have a chance of winning, 1 in 14\n",
      "\n",
      "The probability of winning the best prize with 6991908 different ticket(s) is(are): 50.00000000%\n",
      "You have a chance of winning, 1 in 2\n",
      "\n",
      "The probability of winning the best prize with 13983816 different ticket(s) is(are): 100.00000000%\n",
      "You have a chance of winning, 1 in 1\n",
      "\n"
     ]
    }
   ],
   "source": [
    "n_tickets = [1, 10, 100, 10000, 1000000, 6991908, 13983816]\n",
    "for n in n_tickets:\n",
    "    multi_ticket_probability(n)\n",
    "    print(\"\")"
   ]
  },
  {
   "cell_type": "markdown",
   "metadata": {
    "collapsed": true
   },
   "source": [
    "# Smaller prize ticket probability"
   ]
  },
  {
   "cell_type": "markdown",
   "metadata": {},
   "source": [
    "There are smaller prizes if a player's ticket match two, three, four, or five of the six numbers drawn.\n",
    "We will build a function that allows users to check whether their selected numbers has matched with the past partially.\n",
    " \n",
    "The players might be interested in finding out the probability of having two, three, four, or five winning numbers.\n",
    " \n",
    "The user inputs:\n",
    "1. Six different numbers from 1 to 49\n",
    "2. An integer between 2 and 5 that represents the number of winning numbers expected\n"
   ]
  },
  {
   "cell_type": "code",
   "execution_count": 157,
   "metadata": {
    "collapsed": false
   },
   "outputs": [],
   "source": [
    "def probability_less_6(n_winning):\n",
    "    n_combinations = combination(49, 6)\n",
    "    \n",
    "    n_winning_combinations = combination(6, n_winning)\n",
    "    n_remaining_combinations = combination(43, 6 - n_winning)\n",
    "    n_winning_combinations = n_winning_combinations * n_remaining_combinations\n",
    "    \n",
    "    p = n_winning_combinations/n_combinations * 100\n",
    "    \n",
    "    rounded_chances = round(1/p*100)\n",
    "    print(\"The probability of winning {} numbers out of 6 numbers is: {:.8f}%\".format(n_winning, p))\n",
    "    print(\"You have a chance of winning, 1 in {}\".format(rounded_chances))"
   ]
  },
  {
   "cell_type": "code",
   "execution_count": 159,
   "metadata": {
    "collapsed": false,
    "scrolled": true
   },
   "outputs": [
    {
     "name": "stdout",
     "output_type": "stream",
     "text": [
      "The probability of winning 2 numbers out of 6 numbers is: 13.23780290%\n",
      "You have a chance of winning, 1 in 8\n",
      "\n",
      "The probability of winning 3 numbers out of 6 numbers is: 1.76504039%\n",
      "You have a chance of winning, 1 in 57\n",
      "\n",
      "The probability of winning 4 numbers out of 6 numbers is: 0.09686197%\n",
      "You have a chance of winning, 1 in 1032\n",
      "\n",
      "The probability of winning 5 numbers out of 6 numbers is: 0.00184499%\n",
      "You have a chance of winning, 1 in 54201\n",
      "\n"
     ]
    }
   ],
   "source": [
    "n_winning = [2, 3, 4, 5]\n",
    "for n in n_winning:\n",
    "    probability_less_6(n)\n",
    "    print('')"
   ]
  },
  {
   "cell_type": "markdown",
   "metadata": {},
   "source": [
    "# Conclusion"
   ]
  },
  {
   "cell_type": "markdown",
   "metadata": {},
   "source": [
    "We were able to build functions the mobile app that can be used to raise awareness of the chance of winning to lottery atticts using simple mathematical principles in probability.\n",
    "Possible features to implement next is:\n",
    "\n",
    "* Making the outputs meaningful by adding analogies, for example, compare the chances of winning in lottery with other event such as **You are 100 times more likely to get striked by a thunder than winning the lottery**"
   ]
  },
  {
   "cell_type": "code",
   "execution_count": null,
   "metadata": {
    "collapsed": true
   },
   "outputs": [],
   "source": []
  }
 ],
 "metadata": {
  "kernelspec": {
   "display_name": "Python 3",
   "language": "python",
   "name": "python3"
  },
  "language_info": {
   "codemirror_mode": {
    "name": "ipython",
    "version": 3
   },
   "file_extension": ".py",
   "mimetype": "text/x-python",
   "name": "python",
   "nbconvert_exporter": "python",
   "pygments_lexer": "ipython3",
   "version": "3.4.3"
  }
 },
 "nbformat": 4,
 "nbformat_minor": 2
}
